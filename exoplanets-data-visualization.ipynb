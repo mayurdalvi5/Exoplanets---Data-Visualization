{
 "cells": [
  {
   "cell_type": "code",
   "execution_count": 1,
   "id": "1c9f46c8",
   "metadata": {
    "_cell_guid": "b1076dfc-b9ad-4769-8c92-a6c4dae69d19",
    "_uuid": "8f2839f25d086af736a60e9eeb907d3b93b6e0e5",
    "execution": {
     "iopub.execute_input": "2021-11-26T04:43:14.133925Z",
     "iopub.status.busy": "2021-11-26T04:43:14.133210Z",
     "iopub.status.idle": "2021-11-26T04:43:14.149042Z",
     "shell.execute_reply": "2021-11-26T04:43:14.149665Z",
     "shell.execute_reply.started": "2021-11-26T03:48:20.716123Z"
    },
    "papermill": {
     "duration": 0.052066,
     "end_time": "2021-11-26T04:43:14.149956",
     "exception": false,
     "start_time": "2021-11-26T04:43:14.097890",
     "status": "completed"
    },
    "tags": []
   },
   "outputs": [
    {
     "name": "stdout",
     "output_type": "stream",
     "text": [
      "/kaggle/input/all-exoplanets-dataset/all_exoplanets_2021.csv\n"
     ]
    }
   ],
   "source": [
    "# This Python 3 environment comes with many helpful analytics libraries installed\n",
    "# It is defined by the kaggle/python Docker image: https://github.com/kaggle/docker-python\n",
    "# For example, here's several helpful packages to load\n",
    "\n",
    "import numpy as np # linear algebra\n",
    "import pandas as pd # data processing, CSV file I/O (e.g. pd.read_csv)\n",
    "\n",
    "# Input data files are available in the read-only \"../input/\" directory\n",
    "# For example, running this (by clicking run or pressing Shift+Enter) will list all files under the input directory\n",
    "\n",
    "import os\n",
    "for dirname, _, filenames in os.walk('/kaggle/input'):\n",
    "    for filename in filenames:\n",
    "        print(os.path.join(dirname, filename))\n",
    "\n",
    "# You can write up to 20GB to the current directory (/kaggle/working/) that gets preserved as output when you create a version using \"Save & Run All\" \n",
    "# You can also write temporary files to /kaggle/temp/, but they won't be saved outside of the current session"
   ]
  },
  {
   "cell_type": "markdown",
   "id": "b828513c",
   "metadata": {
    "papermill": {
     "duration": 0.020572,
     "end_time": "2021-11-26T04:43:14.192745",
     "exception": false,
     "start_time": "2021-11-26T04:43:14.172173",
     "status": "completed"
    },
    "tags": []
   },
   "source": [
    "# Import Dependencies"
   ]
  },
  {
   "cell_type": "code",
   "execution_count": 2,
   "id": "4d87d5a7",
   "metadata": {
    "execution": {
     "iopub.execute_input": "2021-11-26T04:43:14.238639Z",
     "iopub.status.busy": "2021-11-26T04:43:14.236584Z",
     "iopub.status.idle": "2021-11-26T04:43:15.231398Z",
     "shell.execute_reply": "2021-11-26T04:43:15.230772Z",
     "shell.execute_reply.started": "2021-11-26T03:48:20.729441Z"
    },
    "papermill": {
     "duration": 1.018389,
     "end_time": "2021-11-26T04:43:15.231562",
     "exception": false,
     "start_time": "2021-11-26T04:43:14.213173",
     "status": "completed"
    },
    "tags": []
   },
   "outputs": [],
   "source": [
    "import numpy as np\n",
    "import pandas as pd\n",
    "import matplotlib.pyplot as plt\n",
    "import seaborn as sns"
   ]
  },
  {
   "cell_type": "code",
   "execution_count": 3,
   "id": "1857fa72",
   "metadata": {
    "execution": {
     "iopub.execute_input": "2021-11-26T04:43:15.275955Z",
     "iopub.status.busy": "2021-11-26T04:43:15.275357Z",
     "iopub.status.idle": "2021-11-26T04:43:15.319117Z",
     "shell.execute_reply": "2021-11-26T04:43:15.318453Z",
     "shell.execute_reply.started": "2021-11-26T03:48:20.737245Z"
    },
    "papermill": {
     "duration": 0.06749,
     "end_time": "2021-11-26T04:43:15.319264",
     "exception": false,
     "start_time": "2021-11-26T04:43:15.251774",
     "status": "completed"
    },
    "tags": []
   },
   "outputs": [],
   "source": [
    "df = pd.read_csv(\"/kaggle/input/all-exoplanets-dataset/all_exoplanets_2021.csv\")"
   ]
  },
  {
   "cell_type": "markdown",
   "id": "4e2461f6",
   "metadata": {
    "papermill": {
     "duration": 0.019906,
     "end_time": "2021-11-26T04:43:15.360207",
     "exception": false,
     "start_time": "2021-11-26T04:43:15.340301",
     "status": "completed"
    },
    "tags": []
   },
   "source": [
    "# Data Analysis"
   ]
  },
  {
   "cell_type": "code",
   "execution_count": 4,
   "id": "86e9c267",
   "metadata": {
    "execution": {
     "iopub.execute_input": "2021-11-26T04:43:15.404977Z",
     "iopub.status.busy": "2021-11-26T04:43:15.404286Z",
     "iopub.status.idle": "2021-11-26T04:43:15.445321Z",
     "shell.execute_reply": "2021-11-26T04:43:15.444764Z",
     "shell.execute_reply.started": "2021-11-26T03:48:20.769853Z"
    },
    "papermill": {
     "duration": 0.065067,
     "end_time": "2021-11-26T04:43:15.445460",
     "exception": false,
     "start_time": "2021-11-26T04:43:15.380393",
     "status": "completed"
    },
    "tags": []
   },
   "outputs": [
    {
     "data": {
      "text/html": [
       "<div>\n",
       "<style scoped>\n",
       "    .dataframe tbody tr th:only-of-type {\n",
       "        vertical-align: middle;\n",
       "    }\n",
       "\n",
       "    .dataframe tbody tr th {\n",
       "        vertical-align: top;\n",
       "    }\n",
       "\n",
       "    .dataframe thead th {\n",
       "        text-align: right;\n",
       "    }\n",
       "</style>\n",
       "<table border=\"1\" class=\"dataframe\">\n",
       "  <thead>\n",
       "    <tr style=\"text-align: right;\">\n",
       "      <th></th>\n",
       "      <th>No.</th>\n",
       "      <th>Planet Name</th>\n",
       "      <th>Planet Host</th>\n",
       "      <th>Num Stars</th>\n",
       "      <th>Num Planets</th>\n",
       "      <th>Discovery Method</th>\n",
       "      <th>Discovery Year</th>\n",
       "      <th>Discovery Facility</th>\n",
       "      <th>Orbital Period Days</th>\n",
       "      <th>Orbit Semi-Major Axis</th>\n",
       "      <th>...</th>\n",
       "      <th>Equilibrium Temperature</th>\n",
       "      <th>Spectral Type</th>\n",
       "      <th>Stellar Effective Temperature</th>\n",
       "      <th>Stellar Radius</th>\n",
       "      <th>Stellar Mass</th>\n",
       "      <th>Stellar Metallicity</th>\n",
       "      <th>Stellar Metallicity Ratio</th>\n",
       "      <th>Stellar Surface Gravity</th>\n",
       "      <th>Distance</th>\n",
       "      <th>Gaia Magnitude</th>\n",
       "    </tr>\n",
       "  </thead>\n",
       "  <tbody>\n",
       "    <tr>\n",
       "      <th>0</th>\n",
       "      <td>1</td>\n",
       "      <td>11 Com b</td>\n",
       "      <td>11 Com</td>\n",
       "      <td>2</td>\n",
       "      <td>1</td>\n",
       "      <td>Radial Velocity</td>\n",
       "      <td>2007</td>\n",
       "      <td>Xinglong Station</td>\n",
       "      <td>326.03000</td>\n",
       "      <td>1.29</td>\n",
       "      <td>...</td>\n",
       "      <td>NaN</td>\n",
       "      <td>G8 III</td>\n",
       "      <td>4742.0</td>\n",
       "      <td>19.00</td>\n",
       "      <td>2.70</td>\n",
       "      <td>-0.35</td>\n",
       "      <td>[Fe/H]</td>\n",
       "      <td>2.31</td>\n",
       "      <td>93.1846</td>\n",
       "      <td>4.44038</td>\n",
       "    </tr>\n",
       "    <tr>\n",
       "      <th>1</th>\n",
       "      <td>2</td>\n",
       "      <td>11 UMi b</td>\n",
       "      <td>11 UMi</td>\n",
       "      <td>1</td>\n",
       "      <td>1</td>\n",
       "      <td>Radial Velocity</td>\n",
       "      <td>2009</td>\n",
       "      <td>Thueringer Landessternwarte Tautenburg</td>\n",
       "      <td>516.21997</td>\n",
       "      <td>1.53</td>\n",
       "      <td>...</td>\n",
       "      <td>NaN</td>\n",
       "      <td>NaN</td>\n",
       "      <td>4213.0</td>\n",
       "      <td>29.79</td>\n",
       "      <td>2.78</td>\n",
       "      <td>-0.02</td>\n",
       "      <td>[Fe/H]</td>\n",
       "      <td>1.93</td>\n",
       "      <td>125.3210</td>\n",
       "      <td>4.56216</td>\n",
       "    </tr>\n",
       "    <tr>\n",
       "      <th>2</th>\n",
       "      <td>3</td>\n",
       "      <td>14 And b</td>\n",
       "      <td>14 And</td>\n",
       "      <td>1</td>\n",
       "      <td>1</td>\n",
       "      <td>Radial Velocity</td>\n",
       "      <td>2008</td>\n",
       "      <td>Okayama Astrophysical Observatory</td>\n",
       "      <td>185.84000</td>\n",
       "      <td>0.83</td>\n",
       "      <td>...</td>\n",
       "      <td>NaN</td>\n",
       "      <td>K0 III</td>\n",
       "      <td>4813.0</td>\n",
       "      <td>11.00</td>\n",
       "      <td>2.20</td>\n",
       "      <td>-0.24</td>\n",
       "      <td>[Fe/H]</td>\n",
       "      <td>2.63</td>\n",
       "      <td>75.4392</td>\n",
       "      <td>4.91781</td>\n",
       "    </tr>\n",
       "    <tr>\n",
       "      <th>3</th>\n",
       "      <td>4</td>\n",
       "      <td>14 Her b</td>\n",
       "      <td>14 Her</td>\n",
       "      <td>1</td>\n",
       "      <td>2</td>\n",
       "      <td>Radial Velocity</td>\n",
       "      <td>2002</td>\n",
       "      <td>W. M. Keck Observatory</td>\n",
       "      <td>1773.40002</td>\n",
       "      <td>2.93</td>\n",
       "      <td>...</td>\n",
       "      <td>NaN</td>\n",
       "      <td>NaN</td>\n",
       "      <td>5338.0</td>\n",
       "      <td>0.93</td>\n",
       "      <td>0.90</td>\n",
       "      <td>0.41</td>\n",
       "      <td>[Fe/H]</td>\n",
       "      <td>4.45</td>\n",
       "      <td>17.9323</td>\n",
       "      <td>6.38300</td>\n",
       "    </tr>\n",
       "    <tr>\n",
       "      <th>4</th>\n",
       "      <td>5</td>\n",
       "      <td>16 Cyg B b</td>\n",
       "      <td>16 Cyg B</td>\n",
       "      <td>3</td>\n",
       "      <td>1</td>\n",
       "      <td>Radial Velocity</td>\n",
       "      <td>1996</td>\n",
       "      <td>Multiple Observatories</td>\n",
       "      <td>798.50000</td>\n",
       "      <td>1.66</td>\n",
       "      <td>...</td>\n",
       "      <td>NaN</td>\n",
       "      <td>NaN</td>\n",
       "      <td>5750.0</td>\n",
       "      <td>1.13</td>\n",
       "      <td>1.08</td>\n",
       "      <td>0.06</td>\n",
       "      <td>[Fe/H]</td>\n",
       "      <td>4.36</td>\n",
       "      <td>21.1397</td>\n",
       "      <td>6.06428</td>\n",
       "    </tr>\n",
       "  </tbody>\n",
       "</table>\n",
       "<p>5 rows × 23 columns</p>\n",
       "</div>"
      ],
      "text/plain": [
       "   No. Planet Name Planet Host  Num Stars  Num Planets Discovery Method  \\\n",
       "0    1    11 Com b      11 Com          2            1  Radial Velocity   \n",
       "1    2    11 UMi b      11 UMi          1            1  Radial Velocity   \n",
       "2    3    14 And b      14 And          1            1  Radial Velocity   \n",
       "3    4    14 Her b      14 Her          1            2  Radial Velocity   \n",
       "4    5  16 Cyg B b    16 Cyg B          3            1  Radial Velocity   \n",
       "\n",
       "   Discovery Year                      Discovery Facility  \\\n",
       "0            2007                        Xinglong Station   \n",
       "1            2009  Thueringer Landessternwarte Tautenburg   \n",
       "2            2008       Okayama Astrophysical Observatory   \n",
       "3            2002                  W. M. Keck Observatory   \n",
       "4            1996                  Multiple Observatories   \n",
       "\n",
       "   Orbital Period Days  Orbit Semi-Major Axis  ...  Equilibrium Temperature  \\\n",
       "0            326.03000                   1.29  ...                      NaN   \n",
       "1            516.21997                   1.53  ...                      NaN   \n",
       "2            185.84000                   0.83  ...                      NaN   \n",
       "3           1773.40002                   2.93  ...                      NaN   \n",
       "4            798.50000                   1.66  ...                      NaN   \n",
       "\n",
       "   Spectral Type  Stellar Effective Temperature  Stellar Radius Stellar Mass  \\\n",
       "0         G8 III                         4742.0           19.00         2.70   \n",
       "1            NaN                         4213.0           29.79         2.78   \n",
       "2         K0 III                         4813.0           11.00         2.20   \n",
       "3            NaN                         5338.0            0.93         0.90   \n",
       "4            NaN                         5750.0            1.13         1.08   \n",
       "\n",
       "   Stellar Metallicity  Stellar Metallicity Ratio  Stellar Surface Gravity  \\\n",
       "0                -0.35                     [Fe/H]                     2.31   \n",
       "1                -0.02                     [Fe/H]                     1.93   \n",
       "2                -0.24                     [Fe/H]                     2.63   \n",
       "3                 0.41                     [Fe/H]                     4.45   \n",
       "4                 0.06                     [Fe/H]                     4.36   \n",
       "\n",
       "   Distance Gaia Magnitude  \n",
       "0   93.1846        4.44038  \n",
       "1  125.3210        4.56216  \n",
       "2   75.4392        4.91781  \n",
       "3   17.9323        6.38300  \n",
       "4   21.1397        6.06428  \n",
       "\n",
       "[5 rows x 23 columns]"
      ]
     },
     "execution_count": 4,
     "metadata": {},
     "output_type": "execute_result"
    }
   ],
   "source": [
    "df.head()"
   ]
  },
  {
   "cell_type": "code",
   "execution_count": 5,
   "id": "fafce8fe",
   "metadata": {
    "execution": {
     "iopub.execute_input": "2021-11-26T04:43:15.490914Z",
     "iopub.status.busy": "2021-11-26T04:43:15.490193Z",
     "iopub.status.idle": "2021-11-26T04:43:15.515009Z",
     "shell.execute_reply": "2021-11-26T04:43:15.515628Z",
     "shell.execute_reply.started": "2021-11-26T03:48:20.806248Z"
    },
    "papermill": {
     "duration": 0.049148,
     "end_time": "2021-11-26T04:43:15.515801",
     "exception": false,
     "start_time": "2021-11-26T04:43:15.466653",
     "status": "completed"
    },
    "tags": []
   },
   "outputs": [
    {
     "name": "stdout",
     "output_type": "stream",
     "text": [
      "<class 'pandas.core.frame.DataFrame'>\n",
      "RangeIndex: 4575 entries, 0 to 4574\n",
      "Data columns (total 23 columns):\n",
      " #   Column                         Non-Null Count  Dtype  \n",
      "---  ------                         --------------  -----  \n",
      " 0   No.                            4575 non-null   int64  \n",
      " 1   Planet Name                    4575 non-null   object \n",
      " 2   Planet Host                    4575 non-null   object \n",
      " 3   Num Stars                      4575 non-null   int64  \n",
      " 4   Num Planets                    4575 non-null   int64  \n",
      " 5   Discovery Method               4575 non-null   object \n",
      " 6   Discovery Year                 4575 non-null   int64  \n",
      " 7   Discovery Facility             4575 non-null   object \n",
      " 8   Orbital Period Days            4413 non-null   float64\n",
      " 9   Orbit Semi-Major Axis          2763 non-null   float64\n",
      " 10  Mass                           2006 non-null   float64\n",
      " 11  Eccentricity                   1707 non-null   float64\n",
      " 12  Insolation Flux                370 non-null    float64\n",
      " 13  Equilibrium Temperature        925 non-null    float64\n",
      " 14  Spectral Type                  928 non-null    object \n",
      " 15  Stellar Effective Temperature  4226 non-null   float64\n",
      " 16  Stellar Radius                 4128 non-null   float64\n",
      " 17  Stellar Mass                   3844 non-null   float64\n",
      " 18  Stellar Metallicity            3204 non-null   float64\n",
      " 19  Stellar Metallicity Ratio      3192 non-null   object \n",
      " 20  Stellar Surface Gravity        3972 non-null   float64\n",
      " 21  Distance                       4471 non-null   float64\n",
      " 22  Gaia Magnitude                 4400 non-null   float64\n",
      "dtypes: float64(13), int64(4), object(6)\n",
      "memory usage: 822.2+ KB\n"
     ]
    }
   ],
   "source": [
    "df.info()"
   ]
  },
  {
   "cell_type": "code",
   "execution_count": 6,
   "id": "da62bde6",
   "metadata": {
    "execution": {
     "iopub.execute_input": "2021-11-26T04:43:15.562557Z",
     "iopub.status.busy": "2021-11-26T04:43:15.561879Z",
     "iopub.status.idle": "2021-11-26T04:43:15.568038Z",
     "shell.execute_reply": "2021-11-26T04:43:15.567466Z",
     "shell.execute_reply.started": "2021-11-26T03:48:20.826413Z"
    },
    "papermill": {
     "duration": 0.030795,
     "end_time": "2021-11-26T04:43:15.568185",
     "exception": false,
     "start_time": "2021-11-26T04:43:15.537390",
     "status": "completed"
    },
    "tags": []
   },
   "outputs": [
    {
     "data": {
      "text/plain": [
       "(4575, 23)"
      ]
     },
     "execution_count": 6,
     "metadata": {},
     "output_type": "execute_result"
    }
   ],
   "source": [
    "df.shape"
   ]
  },
  {
   "cell_type": "code",
   "execution_count": 7,
   "id": "3dca4303",
   "metadata": {
    "execution": {
     "iopub.execute_input": "2021-11-26T04:43:15.625071Z",
     "iopub.status.busy": "2021-11-26T04:43:15.621707Z",
     "iopub.status.idle": "2021-11-26T04:43:15.628187Z",
     "shell.execute_reply": "2021-11-26T04:43:15.628772Z",
     "shell.execute_reply.started": "2021-11-26T03:48:20.833493Z"
    },
    "papermill": {
     "duration": 0.037963,
     "end_time": "2021-11-26T04:43:15.628941",
     "exception": false,
     "start_time": "2021-11-26T04:43:15.590978",
     "status": "completed"
    },
    "tags": []
   },
   "outputs": [
    {
     "data": {
      "text/plain": [
       "No.                                 0\n",
       "Planet Name                         0\n",
       "Planet Host                         0\n",
       "Num Stars                           0\n",
       "Num Planets                         0\n",
       "Discovery Method                    0\n",
       "Discovery Year                      0\n",
       "Discovery Facility                  0\n",
       "Orbital Period Days               162\n",
       "Orbit Semi-Major Axis            1812\n",
       "Mass                             2569\n",
       "Eccentricity                     2868\n",
       "Insolation Flux                  4205\n",
       "Equilibrium Temperature          3650\n",
       "Spectral Type                    3647\n",
       "Stellar Effective Temperature     349\n",
       "Stellar Radius                    447\n",
       "Stellar Mass                      731\n",
       "Stellar Metallicity              1371\n",
       "Stellar Metallicity Ratio        1383\n",
       "Stellar Surface Gravity           603\n",
       "Distance                          104\n",
       "Gaia Magnitude                    175\n",
       "dtype: int64"
      ]
     },
     "execution_count": 7,
     "metadata": {},
     "output_type": "execute_result"
    }
   ],
   "source": [
    "df.isnull().sum()"
   ]
  },
  {
   "cell_type": "markdown",
   "id": "8f3eccf4",
   "metadata": {
    "papermill": {
     "duration": 0.02175,
     "end_time": "2021-11-26T04:43:15.672671",
     "exception": false,
     "start_time": "2021-11-26T04:43:15.650921",
     "status": "completed"
    },
    "tags": []
   },
   "source": [
    "# Feature Engineering"
   ]
  },
  {
   "cell_type": "code",
   "execution_count": 8,
   "id": "4328ba83",
   "metadata": {
    "execution": {
     "iopub.execute_input": "2021-11-26T04:43:15.721427Z",
     "iopub.status.busy": "2021-11-26T04:43:15.719549Z",
     "iopub.status.idle": "2021-11-26T04:43:15.724518Z",
     "shell.execute_reply": "2021-11-26T04:43:15.723870Z",
     "shell.execute_reply.started": "2021-11-26T03:48:20.883052Z"
    },
    "papermill": {
     "duration": 0.030014,
     "end_time": "2021-11-26T04:43:15.724669",
     "exception": false,
     "start_time": "2021-11-26T04:43:15.694655",
     "status": "completed"
    },
    "tags": []
   },
   "outputs": [],
   "source": [
    "planet_col = ['Planet Name','Num Stars','Num Planets','Discovery Method','Discovery Year','Discovery Facility','Orbital Period Days']"
   ]
  },
  {
   "cell_type": "code",
   "execution_count": 9,
   "id": "9900441b",
   "metadata": {
    "execution": {
     "iopub.execute_input": "2021-11-26T04:43:15.775200Z",
     "iopub.status.busy": "2021-11-26T04:43:15.774541Z",
     "iopub.status.idle": "2021-11-26T04:43:15.777661Z",
     "shell.execute_reply": "2021-11-26T04:43:15.776969Z",
     "shell.execute_reply.started": "2021-11-26T03:48:20.893724Z"
    },
    "papermill": {
     "duration": 0.031226,
     "end_time": "2021-11-26T04:43:15.777806",
     "exception": false,
     "start_time": "2021-11-26T04:43:15.746580",
     "status": "completed"
    },
    "tags": []
   },
   "outputs": [],
   "source": [
    "new_df = df[planet_col]"
   ]
  },
  {
   "cell_type": "code",
   "execution_count": 10,
   "id": "b2087777",
   "metadata": {
    "execution": {
     "iopub.execute_input": "2021-11-26T04:43:15.835234Z",
     "iopub.status.busy": "2021-11-26T04:43:15.834471Z",
     "iopub.status.idle": "2021-11-26T04:43:15.837790Z",
     "shell.execute_reply": "2021-11-26T04:43:15.837197Z",
     "shell.execute_reply.started": "2021-11-26T04:17:25.384819Z"
    },
    "papermill": {
     "duration": 0.037873,
     "end_time": "2021-11-26T04:43:15.837930",
     "exception": false,
     "start_time": "2021-11-26T04:43:15.800057",
     "status": "completed"
    },
    "tags": []
   },
   "outputs": [
    {
     "data": {
      "text/html": [
       "<div>\n",
       "<style scoped>\n",
       "    .dataframe tbody tr th:only-of-type {\n",
       "        vertical-align: middle;\n",
       "    }\n",
       "\n",
       "    .dataframe tbody tr th {\n",
       "        vertical-align: top;\n",
       "    }\n",
       "\n",
       "    .dataframe thead th {\n",
       "        text-align: right;\n",
       "    }\n",
       "</style>\n",
       "<table border=\"1\" class=\"dataframe\">\n",
       "  <thead>\n",
       "    <tr style=\"text-align: right;\">\n",
       "      <th></th>\n",
       "      <th>Planet Name</th>\n",
       "      <th>Num Stars</th>\n",
       "      <th>Num Planets</th>\n",
       "      <th>Discovery Method</th>\n",
       "      <th>Discovery Year</th>\n",
       "      <th>Discovery Facility</th>\n",
       "      <th>Orbital Period Days</th>\n",
       "    </tr>\n",
       "  </thead>\n",
       "  <tbody>\n",
       "    <tr>\n",
       "      <th>0</th>\n",
       "      <td>11 Com b</td>\n",
       "      <td>2</td>\n",
       "      <td>1</td>\n",
       "      <td>Radial Velocity</td>\n",
       "      <td>2007</td>\n",
       "      <td>Xinglong Station</td>\n",
       "      <td>326.03000</td>\n",
       "    </tr>\n",
       "    <tr>\n",
       "      <th>1</th>\n",
       "      <td>11 UMi b</td>\n",
       "      <td>1</td>\n",
       "      <td>1</td>\n",
       "      <td>Radial Velocity</td>\n",
       "      <td>2009</td>\n",
       "      <td>Thueringer Landessternwarte Tautenburg</td>\n",
       "      <td>516.21997</td>\n",
       "    </tr>\n",
       "    <tr>\n",
       "      <th>2</th>\n",
       "      <td>14 And b</td>\n",
       "      <td>1</td>\n",
       "      <td>1</td>\n",
       "      <td>Radial Velocity</td>\n",
       "      <td>2008</td>\n",
       "      <td>Okayama Astrophysical Observatory</td>\n",
       "      <td>185.84000</td>\n",
       "    </tr>\n",
       "    <tr>\n",
       "      <th>3</th>\n",
       "      <td>14 Her b</td>\n",
       "      <td>1</td>\n",
       "      <td>2</td>\n",
       "      <td>Radial Velocity</td>\n",
       "      <td>2002</td>\n",
       "      <td>W. M. Keck Observatory</td>\n",
       "      <td>1773.40002</td>\n",
       "    </tr>\n",
       "    <tr>\n",
       "      <th>4</th>\n",
       "      <td>16 Cyg B b</td>\n",
       "      <td>3</td>\n",
       "      <td>1</td>\n",
       "      <td>Radial Velocity</td>\n",
       "      <td>1996</td>\n",
       "      <td>Multiple Observatories</td>\n",
       "      <td>798.50000</td>\n",
       "    </tr>\n",
       "  </tbody>\n",
       "</table>\n",
       "</div>"
      ],
      "text/plain": [
       "  Planet Name  Num Stars  Num Planets Discovery Method  Discovery Year  \\\n",
       "0    11 Com b          2            1  Radial Velocity            2007   \n",
       "1    11 UMi b          1            1  Radial Velocity            2009   \n",
       "2    14 And b          1            1  Radial Velocity            2008   \n",
       "3    14 Her b          1            2  Radial Velocity            2002   \n",
       "4  16 Cyg B b          3            1  Radial Velocity            1996   \n",
       "\n",
       "                       Discovery Facility  Orbital Period Days  \n",
       "0                        Xinglong Station            326.03000  \n",
       "1  Thueringer Landessternwarte Tautenburg            516.21997  \n",
       "2       Okayama Astrophysical Observatory            185.84000  \n",
       "3                  W. M. Keck Observatory           1773.40002  \n",
       "4                  Multiple Observatories            798.50000  "
      ]
     },
     "execution_count": 10,
     "metadata": {},
     "output_type": "execute_result"
    }
   ],
   "source": [
    "new_df.head()"
   ]
  },
  {
   "cell_type": "markdown",
   "id": "50b77476",
   "metadata": {
    "papermill": {
     "duration": 0.022148,
     "end_time": "2021-11-26T04:43:15.882745",
     "exception": false,
     "start_time": "2021-11-26T04:43:15.860597",
     "status": "completed"
    },
    "tags": []
   },
   "source": [
    "# Planet with Most no of stars"
   ]
  },
  {
   "cell_type": "code",
   "execution_count": 11,
   "id": "eafc6a47",
   "metadata": {
    "execution": {
     "iopub.execute_input": "2021-11-26T04:43:15.933023Z",
     "iopub.status.busy": "2021-11-26T04:43:15.932325Z",
     "iopub.status.idle": "2021-11-26T04:43:15.944654Z",
     "shell.execute_reply": "2021-11-26T04:43:15.945281Z",
     "shell.execute_reply.started": "2021-11-26T04:21:57.008983Z"
    },
    "papermill": {
     "duration": 0.040344,
     "end_time": "2021-11-26T04:43:15.945452",
     "exception": false,
     "start_time": "2021-11-26T04:43:15.905108",
     "status": "completed"
    },
    "tags": []
   },
   "outputs": [
    {
     "data": {
      "text/html": [
       "<div>\n",
       "<style scoped>\n",
       "    .dataframe tbody tr th:only-of-type {\n",
       "        vertical-align: middle;\n",
       "    }\n",
       "\n",
       "    .dataframe tbody tr th {\n",
       "        vertical-align: top;\n",
       "    }\n",
       "\n",
       "    .dataframe thead th {\n",
       "        text-align: right;\n",
       "    }\n",
       "</style>\n",
       "<table border=\"1\" class=\"dataframe\">\n",
       "  <thead>\n",
       "    <tr style=\"text-align: right;\">\n",
       "      <th></th>\n",
       "      <th>Planet Name</th>\n",
       "      <th>Num Stars</th>\n",
       "      <th>Num Planets</th>\n",
       "      <th>Discovery Method</th>\n",
       "      <th>Discovery Year</th>\n",
       "      <th>Discovery Facility</th>\n",
       "      <th>Orbital Period Days</th>\n",
       "    </tr>\n",
       "  </thead>\n",
       "  <tbody>\n",
       "    <tr>\n",
       "      <th>4158</th>\n",
       "      <td>PH1 b</td>\n",
       "      <td>4</td>\n",
       "      <td>1</td>\n",
       "      <td>Transit</td>\n",
       "      <td>2012</td>\n",
       "      <td>Kepler</td>\n",
       "      <td>138.31700</td>\n",
       "    </tr>\n",
       "    <tr>\n",
       "      <th>19</th>\n",
       "      <td>30 Ari B b</td>\n",
       "      <td>4</td>\n",
       "      <td>1</td>\n",
       "      <td>Radial Velocity</td>\n",
       "      <td>2009</td>\n",
       "      <td>Thueringer Landessternwarte Tautenburg</td>\n",
       "      <td>335.10001</td>\n",
       "    </tr>\n",
       "    <tr>\n",
       "      <th>734</th>\n",
       "      <td>HD 207832 c</td>\n",
       "      <td>3</td>\n",
       "      <td>2</td>\n",
       "      <td>Radial Velocity</td>\n",
       "      <td>2012</td>\n",
       "      <td>W. M. Keck Observatory</td>\n",
       "      <td>1155.70000</td>\n",
       "    </tr>\n",
       "    <tr>\n",
       "      <th>957</th>\n",
       "      <td>HD 65216 c</td>\n",
       "      <td>3</td>\n",
       "      <td>2</td>\n",
       "      <td>Radial Velocity</td>\n",
       "      <td>2013</td>\n",
       "      <td>La Silla Observatory</td>\n",
       "      <td>5370.00000</td>\n",
       "    </tr>\n",
       "    <tr>\n",
       "      <th>244</th>\n",
       "      <td>GJ 667 C c</td>\n",
       "      <td>3</td>\n",
       "      <td>5</td>\n",
       "      <td>Radial Velocity</td>\n",
       "      <td>2011</td>\n",
       "      <td>La Silla Observatory</td>\n",
       "      <td>28.14000</td>\n",
       "    </tr>\n",
       "    <tr>\n",
       "      <th>243</th>\n",
       "      <td>GJ 667 C b</td>\n",
       "      <td>3</td>\n",
       "      <td>5</td>\n",
       "      <td>Radial Velocity</td>\n",
       "      <td>2011</td>\n",
       "      <td>La Silla Observatory</td>\n",
       "      <td>7.20040</td>\n",
       "    </tr>\n",
       "    <tr>\n",
       "      <th>666</th>\n",
       "      <td>HD 178911 B b</td>\n",
       "      <td>3</td>\n",
       "      <td>1</td>\n",
       "      <td>Radial Velocity</td>\n",
       "      <td>2001</td>\n",
       "      <td>W. M. Keck Observatory</td>\n",
       "      <td>71.48400</td>\n",
       "    </tr>\n",
       "    <tr>\n",
       "      <th>733</th>\n",
       "      <td>HD 207832 b</td>\n",
       "      <td>3</td>\n",
       "      <td>2</td>\n",
       "      <td>Radial Velocity</td>\n",
       "      <td>2012</td>\n",
       "      <td>W. M. Keck Observatory</td>\n",
       "      <td>160.07000</td>\n",
       "    </tr>\n",
       "    <tr>\n",
       "      <th>4017</th>\n",
       "      <td>LTT 1445 A b</td>\n",
       "      <td>3</td>\n",
       "      <td>1</td>\n",
       "      <td>Transit</td>\n",
       "      <td>2019</td>\n",
       "      <td>Transiting Exoplanet Survey Satellite (TESS)</td>\n",
       "      <td>5.35882</td>\n",
       "    </tr>\n",
       "    <tr>\n",
       "      <th>354</th>\n",
       "      <td>HAT-P-8 b</td>\n",
       "      <td>3</td>\n",
       "      <td>1</td>\n",
       "      <td>Transit</td>\n",
       "      <td>2008</td>\n",
       "      <td>HATNet</td>\n",
       "      <td>3.07634</td>\n",
       "    </tr>\n",
       "  </tbody>\n",
       "</table>\n",
       "</div>"
      ],
      "text/plain": [
       "        Planet Name  Num Stars  Num Planets Discovery Method  Discovery Year  \\\n",
       "4158          PH1 b          4            1          Transit            2012   \n",
       "19       30 Ari B b          4            1  Radial Velocity            2009   \n",
       "734     HD 207832 c          3            2  Radial Velocity            2012   \n",
       "957      HD 65216 c          3            2  Radial Velocity            2013   \n",
       "244      GJ 667 C c          3            5  Radial Velocity            2011   \n",
       "243      GJ 667 C b          3            5  Radial Velocity            2011   \n",
       "666   HD 178911 B b          3            1  Radial Velocity            2001   \n",
       "733     HD 207832 b          3            2  Radial Velocity            2012   \n",
       "4017   LTT 1445 A b          3            1          Transit            2019   \n",
       "354       HAT-P-8 b          3            1          Transit            2008   \n",
       "\n",
       "                                Discovery Facility  Orbital Period Days  \n",
       "4158                                        Kepler            138.31700  \n",
       "19          Thueringer Landessternwarte Tautenburg            335.10001  \n",
       "734                         W. M. Keck Observatory           1155.70000  \n",
       "957                           La Silla Observatory           5370.00000  \n",
       "244                           La Silla Observatory             28.14000  \n",
       "243                           La Silla Observatory              7.20040  \n",
       "666                         W. M. Keck Observatory             71.48400  \n",
       "733                         W. M. Keck Observatory            160.07000  \n",
       "4017  Transiting Exoplanet Survey Satellite (TESS)              5.35882  \n",
       "354                                         HATNet              3.07634  "
      ]
     },
     "execution_count": 11,
     "metadata": {},
     "output_type": "execute_result"
    }
   ],
   "source": [
    "Star_count=new_df.sort_values(['Num Stars'], ascending = False)\n",
    "Star_count=pd.DataFrame(Star_count)\n",
    "Star_count=Star_count[0:10]\n",
    "Star_count"
   ]
  },
  {
   "cell_type": "code",
   "execution_count": 12,
   "id": "62f9817a",
   "metadata": {
    "execution": {
     "iopub.execute_input": "2021-11-26T04:43:15.995194Z",
     "iopub.status.busy": "2021-11-26T04:43:15.994519Z",
     "iopub.status.idle": "2021-11-26T04:43:16.452042Z",
     "shell.execute_reply": "2021-11-26T04:43:16.452541Z",
     "shell.execute_reply.started": "2021-11-26T04:24:25.996721Z"
    },
    "papermill": {
     "duration": 0.483604,
     "end_time": "2021-11-26T04:43:16.452722",
     "exception": false,
     "start_time": "2021-11-26T04:43:15.969118",
     "status": "completed"
    },
    "tags": []
   },
   "outputs": [
    {
     "data": {
      "text/plain": [
       "<AxesSubplot:xlabel='Planet Name'>"
      ]
     },
     "execution_count": 12,
     "metadata": {},
     "output_type": "execute_result"
    },
    {
     "data": {
      "image/png": "[encoded data removed]",
      "text/plain": [
       "<Figure size 432x288 with 1 Axes>"
      ]
     },
     "metadata": {
      "needs_background": "light"
     },
     "output_type": "display_data"
    }
   ],
   "source": [
    "Star_count.plot.bar(x='Planet Name',y='Num Stars')"
   ]
  },
  {
   "cell_type": "markdown",
   "id": "cf01181d",
   "metadata": {
    "papermill": {
     "duration": 0.023938,
     "end_time": "2021-11-26T04:43:16.501041",
     "exception": false,
     "start_time": "2021-11-26T04:43:16.477103",
     "status": "completed"
    },
    "tags": []
   },
   "source": [
    "# How was Planet Discovered ?"
   ]
  },
  {
   "cell_type": "code",
   "execution_count": 13,
   "id": "2ad160a1",
   "metadata": {
    "execution": {
     "iopub.execute_input": "2021-11-26T04:43:16.553309Z",
     "iopub.status.busy": "2021-11-26T04:43:16.552567Z",
     "iopub.status.idle": "2021-11-26T04:43:16.564270Z",
     "shell.execute_reply": "2021-11-26T04:43:16.564791Z",
     "shell.execute_reply.started": "2021-11-26T04:29:02.123959Z"
    },
    "papermill": {
     "duration": 0.039476,
     "end_time": "2021-11-26T04:43:16.564965",
     "exception": false,
     "start_time": "2021-11-26T04:43:16.525489",
     "status": "completed"
    },
    "tags": []
   },
   "outputs": [
    {
     "data": {
      "text/html": [
       "<div>\n",
       "<style scoped>\n",
       "    .dataframe tbody tr th:only-of-type {\n",
       "        vertical-align: middle;\n",
       "    }\n",
       "\n",
       "    .dataframe tbody tr th {\n",
       "        vertical-align: top;\n",
       "    }\n",
       "\n",
       "    .dataframe thead th {\n",
       "        text-align: right;\n",
       "    }\n",
       "</style>\n",
       "<table border=\"1\" class=\"dataframe\">\n",
       "  <thead>\n",
       "    <tr style=\"text-align: right;\">\n",
       "      <th></th>\n",
       "      <th>Method</th>\n",
       "      <th>Count</th>\n",
       "    </tr>\n",
       "  </thead>\n",
       "  <tbody>\n",
       "    <tr>\n",
       "      <th>0</th>\n",
       "      <td>Transit</td>\n",
       "      <td>3444</td>\n",
       "    </tr>\n",
       "    <tr>\n",
       "      <th>1</th>\n",
       "      <td>Radial Velocity</td>\n",
       "      <td>899</td>\n",
       "    </tr>\n",
       "    <tr>\n",
       "      <th>2</th>\n",
       "      <td>Microlensing</td>\n",
       "      <td>120</td>\n",
       "    </tr>\n",
       "    <tr>\n",
       "      <th>3</th>\n",
       "      <td>Imaging</td>\n",
       "      <td>54</td>\n",
       "    </tr>\n",
       "    <tr>\n",
       "      <th>4</th>\n",
       "      <td>Transit Timing Variations</td>\n",
       "      <td>22</td>\n",
       "    </tr>\n",
       "    <tr>\n",
       "      <th>5</th>\n",
       "      <td>Eclipse Timing Variations</td>\n",
       "      <td>16</td>\n",
       "    </tr>\n",
       "    <tr>\n",
       "      <th>6</th>\n",
       "      <td>Orbital Brightness Modulation</td>\n",
       "      <td>9</td>\n",
       "    </tr>\n",
       "    <tr>\n",
       "      <th>7</th>\n",
       "      <td>Pulsar Timing</td>\n",
       "      <td>7</td>\n",
       "    </tr>\n",
       "    <tr>\n",
       "      <th>8</th>\n",
       "      <td>Pulsation Timing Variations</td>\n",
       "      <td>2</td>\n",
       "    </tr>\n",
       "    <tr>\n",
       "      <th>9</th>\n",
       "      <td>Astrometry</td>\n",
       "      <td>1</td>\n",
       "    </tr>\n",
       "    <tr>\n",
       "      <th>10</th>\n",
       "      <td>Disk Kinematics</td>\n",
       "      <td>1</td>\n",
       "    </tr>\n",
       "  </tbody>\n",
       "</table>\n",
       "</div>"
      ],
      "text/plain": [
       "                           Method  Count\n",
       "0                         Transit   3444\n",
       "1                 Radial Velocity    899\n",
       "2                    Microlensing    120\n",
       "3                         Imaging     54\n",
       "4       Transit Timing Variations     22\n",
       "5       Eclipse Timing Variations     16\n",
       "6   Orbital Brightness Modulation      9\n",
       "7                   Pulsar Timing      7\n",
       "8     Pulsation Timing Variations      2\n",
       "9                      Astrometry      1\n",
       "10                Disk Kinematics      1"
      ]
     },
     "execution_count": 13,
     "metadata": {},
     "output_type": "execute_result"
    }
   ],
   "source": [
    "df1 = new_df[\"Discovery Method\"].value_counts().reset_index()\n",
    "df1.columns = [\"Method\", \"Count\"]\n",
    "df1"
   ]
  },
  {
   "cell_type": "code",
   "execution_count": 14,
   "id": "90a1db57",
   "metadata": {
    "execution": {
     "iopub.execute_input": "2021-11-26T04:43:16.619611Z",
     "iopub.status.busy": "2021-11-26T04:43:16.618883Z",
     "iopub.status.idle": "2021-11-26T04:43:17.054734Z",
     "shell.execute_reply": "2021-11-26T04:43:17.054077Z",
     "shell.execute_reply.started": "2021-11-26T04:29:37.321952Z"
    },
    "papermill": {
     "duration": 0.464855,
     "end_time": "2021-11-26T04:43:17.054883",
     "exception": false,
     "start_time": "2021-11-26T04:43:16.590028",
     "status": "completed"
    },
    "tags": []
   },
   "outputs": [
    {
     "data": {
      "image/png": "[encoded data removed]",
      "text/plain": [
       "<Figure size 1296x432 with 1 Axes>"
      ]
     },
     "metadata": {
      "needs_background": "light"
     },
     "output_type": "display_data"
    }
   ],
   "source": [
    "sns.catplot(x=\"Count\", y=\"Method\", kind=\"bar\", data=df1, height=6, aspect=3)\n",
    "plt.grid(True)"
   ]
  },
  {
   "cell_type": "markdown",
   "id": "ed1553b0",
   "metadata": {
    "papermill": {
     "duration": 0.025524,
     "end_time": "2021-11-26T04:43:17.106494",
     "exception": false,
     "start_time": "2021-11-26T04:43:17.080970",
     "status": "completed"
    },
    "tags": []
   },
   "source": [
    "# Planets Discovered Every Year"
   ]
  },
  {
   "cell_type": "code",
   "execution_count": 15,
   "id": "9bd3d76c",
   "metadata": {
    "execution": {
     "iopub.execute_input": "2021-11-26T04:43:17.161789Z",
     "iopub.status.busy": "2021-11-26T04:43:17.161088Z",
     "iopub.status.idle": "2021-11-26T04:43:17.173124Z",
     "shell.execute_reply": "2021-11-26T04:43:17.172551Z",
     "shell.execute_reply.started": "2021-11-26T04:33:08.387175Z"
    },
    "papermill": {
     "duration": 0.040802,
     "end_time": "2021-11-26T04:43:17.173284",
     "exception": false,
     "start_time": "2021-11-26T04:43:17.132482",
     "status": "completed"
    },
    "tags": []
   },
   "outputs": [
    {
     "data": {
      "text/html": [
       "<div>\n",
       "<style scoped>\n",
       "    .dataframe tbody tr th:only-of-type {\n",
       "        vertical-align: middle;\n",
       "    }\n",
       "\n",
       "    .dataframe tbody tr th {\n",
       "        vertical-align: top;\n",
       "    }\n",
       "\n",
       "    .dataframe thead th {\n",
       "        text-align: right;\n",
       "    }\n",
       "</style>\n",
       "<table border=\"1\" class=\"dataframe\">\n",
       "  <thead>\n",
       "    <tr style=\"text-align: right;\">\n",
       "      <th></th>\n",
       "      <th>Year</th>\n",
       "      <th>Count</th>\n",
       "    </tr>\n",
       "  </thead>\n",
       "  <tbody>\n",
       "    <tr>\n",
       "      <th>0</th>\n",
       "      <td>2016</td>\n",
       "      <td>1521</td>\n",
       "    </tr>\n",
       "    <tr>\n",
       "      <th>1</th>\n",
       "      <td>2014</td>\n",
       "      <td>872</td>\n",
       "    </tr>\n",
       "    <tr>\n",
       "      <th>2</th>\n",
       "      <td>2018</td>\n",
       "      <td>326</td>\n",
       "    </tr>\n",
       "    <tr>\n",
       "      <th>3</th>\n",
       "      <td>2020</td>\n",
       "      <td>232</td>\n",
       "    </tr>\n",
       "    <tr>\n",
       "      <th>4</th>\n",
       "      <td>2019</td>\n",
       "      <td>204</td>\n",
       "    </tr>\n",
       "    <tr>\n",
       "      <th>5</th>\n",
       "      <td>2021</td>\n",
       "      <td>193</td>\n",
       "    </tr>\n",
       "    <tr>\n",
       "      <th>6</th>\n",
       "      <td>2015</td>\n",
       "      <td>157</td>\n",
       "    </tr>\n",
       "    <tr>\n",
       "      <th>7</th>\n",
       "      <td>2017</td>\n",
       "      <td>153</td>\n",
       "    </tr>\n",
       "    <tr>\n",
       "      <th>8</th>\n",
       "      <td>2012</td>\n",
       "      <td>139</td>\n",
       "    </tr>\n",
       "    <tr>\n",
       "      <th>9</th>\n",
       "      <td>2011</td>\n",
       "      <td>138</td>\n",
       "    </tr>\n",
       "    <tr>\n",
       "      <th>10</th>\n",
       "      <td>2013</td>\n",
       "      <td>126</td>\n",
       "    </tr>\n",
       "    <tr>\n",
       "      <th>11</th>\n",
       "      <td>2010</td>\n",
       "      <td>97</td>\n",
       "    </tr>\n",
       "    <tr>\n",
       "      <th>12</th>\n",
       "      <td>2009</td>\n",
       "      <td>95</td>\n",
       "    </tr>\n",
       "    <tr>\n",
       "      <th>13</th>\n",
       "      <td>2008</td>\n",
       "      <td>66</td>\n",
       "    </tr>\n",
       "    <tr>\n",
       "      <th>14</th>\n",
       "      <td>2007</td>\n",
       "      <td>52</td>\n",
       "    </tr>\n",
       "    <tr>\n",
       "      <th>15</th>\n",
       "      <td>2005</td>\n",
       "      <td>36</td>\n",
       "    </tr>\n",
       "    <tr>\n",
       "      <th>16</th>\n",
       "      <td>2006</td>\n",
       "      <td>31</td>\n",
       "    </tr>\n",
       "    <tr>\n",
       "      <th>17</th>\n",
       "      <td>2002</td>\n",
       "      <td>29</td>\n",
       "    </tr>\n",
       "    <tr>\n",
       "      <th>18</th>\n",
       "      <td>2004</td>\n",
       "      <td>27</td>\n",
       "    </tr>\n",
       "    <tr>\n",
       "      <th>19</th>\n",
       "      <td>2003</td>\n",
       "      <td>22</td>\n",
       "    </tr>\n",
       "    <tr>\n",
       "      <th>20</th>\n",
       "      <td>2000</td>\n",
       "      <td>16</td>\n",
       "    </tr>\n",
       "    <tr>\n",
       "      <th>21</th>\n",
       "      <td>1999</td>\n",
       "      <td>13</td>\n",
       "    </tr>\n",
       "    <tr>\n",
       "      <th>22</th>\n",
       "      <td>2001</td>\n",
       "      <td>12</td>\n",
       "    </tr>\n",
       "    <tr>\n",
       "      <th>23</th>\n",
       "      <td>1996</td>\n",
       "      <td>6</td>\n",
       "    </tr>\n",
       "    <tr>\n",
       "      <th>24</th>\n",
       "      <td>1998</td>\n",
       "      <td>6</td>\n",
       "    </tr>\n",
       "    <tr>\n",
       "      <th>25</th>\n",
       "      <td>1992</td>\n",
       "      <td>2</td>\n",
       "    </tr>\n",
       "    <tr>\n",
       "      <th>26</th>\n",
       "      <td>1995</td>\n",
       "      <td>1</td>\n",
       "    </tr>\n",
       "    <tr>\n",
       "      <th>27</th>\n",
       "      <td>1989</td>\n",
       "      <td>1</td>\n",
       "    </tr>\n",
       "    <tr>\n",
       "      <th>28</th>\n",
       "      <td>1994</td>\n",
       "      <td>1</td>\n",
       "    </tr>\n",
       "    <tr>\n",
       "      <th>29</th>\n",
       "      <td>1997</td>\n",
       "      <td>1</td>\n",
       "    </tr>\n",
       "  </tbody>\n",
       "</table>\n",
       "</div>"
      ],
      "text/plain": [
       "    Year  Count\n",
       "0   2016   1521\n",
       "1   2014    872\n",
       "2   2018    326\n",
       "3   2020    232\n",
       "4   2019    204\n",
       "5   2021    193\n",
       "6   2015    157\n",
       "7   2017    153\n",
       "8   2012    139\n",
       "9   2011    138\n",
       "10  2013    126\n",
       "11  2010     97\n",
       "12  2009     95\n",
       "13  2008     66\n",
       "14  2007     52\n",
       "15  2005     36\n",
       "16  2006     31\n",
       "17  2002     29\n",
       "18  2004     27\n",
       "19  2003     22\n",
       "20  2000     16\n",
       "21  1999     13\n",
       "22  2001     12\n",
       "23  1996      6\n",
       "24  1998      6\n",
       "25  1992      2\n",
       "26  1995      1\n",
       "27  1989      1\n",
       "28  1994      1\n",
       "29  1997      1"
      ]
     },
     "execution_count": 15,
     "metadata": {},
     "output_type": "execute_result"
    }
   ],
   "source": [
    "df1 = new_df[\"Discovery Year\"].value_counts().reset_index()\n",
    "df1.columns = [\"Year\", \"Count\"]\n",
    "df1"
   ]
  },
  {
   "cell_type": "code",
   "execution_count": 16,
   "id": "4b6957f6",
   "metadata": {
    "execution": {
     "iopub.execute_input": "2021-11-26T04:43:17.229142Z",
     "iopub.status.busy": "2021-11-26T04:43:17.228447Z",
     "iopub.status.idle": "2021-11-26T04:43:17.871114Z",
     "shell.execute_reply": "2021-11-26T04:43:17.870476Z",
     "shell.execute_reply.started": "2021-11-26T04:33:59.427029Z"
    },
    "papermill": {
     "duration": 0.671669,
     "end_time": "2021-11-26T04:43:17.871271",
     "exception": false,
     "start_time": "2021-11-26T04:43:17.199602",
     "status": "completed"
    },
    "tags": []
   },
   "outputs": [
    {
     "data": {
      "image/png": "[encoded data removed]",
      "text/plain": [
       "<Figure size 1296x432 with 1 Axes>"
      ]
     },
     "metadata": {
      "needs_background": "light"
     },
     "output_type": "display_data"
    }
   ],
   "source": [
    "sns.catplot(y=\"Count\", x=\"Year\", kind=\"bar\", data=df1, height=6, aspect=3)\n",
    "plt.grid(True)"
   ]
  },
  {
   "cell_type": "code",
   "execution_count": 17,
   "id": "dd4dc3f7",
   "metadata": {
    "execution": {
     "iopub.execute_input": "2021-11-26T04:43:17.935931Z",
     "iopub.status.busy": "2021-11-26T04:43:17.935247Z",
     "iopub.status.idle": "2021-11-26T04:43:17.939537Z",
     "shell.execute_reply": "2021-11-26T04:43:17.940118Z",
     "shell.execute_reply.started": "2021-11-26T04:35:26.926985Z"
    },
    "papermill": {
     "duration": 0.041376,
     "end_time": "2021-11-26T04:43:17.940307",
     "exception": false,
     "start_time": "2021-11-26T04:43:17.898931",
     "status": "completed"
    },
    "tags": []
   },
   "outputs": [
    {
     "data": {
      "text/plain": [
       "Kepler                                     2402\n",
       "K2                                          477\n",
       "La Silla Observatory                        260\n",
       "Multiple Observatories                      184\n",
       "W. M. Keck Observatory                      181\n",
       "                                           ... \n",
       "NASA Infrared Telescope Facility (IRTF)       1\n",
       "Atacama Large Millimeter Array (ALMA)         1\n",
       "Apache Point Observatory                      1\n",
       "Oak Ridge Observatory                         1\n",
       "Kitt Peak National Observatory                1\n",
       "Name: Discovery Facility, Length: 63, dtype: int64"
      ]
     },
     "execution_count": 17,
     "metadata": {},
     "output_type": "execute_result"
    }
   ],
   "source": [
    "new_df['Discovery Facility'].value_counts()"
   ]
  },
  {
   "cell_type": "markdown",
   "id": "b8f89891",
   "metadata": {
    "papermill": {
     "duration": 0.027468,
     "end_time": "2021-11-26T04:43:17.995713",
     "exception": false,
     "start_time": "2021-11-26T04:43:17.968245",
     "status": "completed"
    },
    "tags": []
   },
   "source": [
    "# Top 10 Facilities"
   ]
  },
  {
   "cell_type": "code",
   "execution_count": 18,
   "id": "bf24bd23",
   "metadata": {
    "execution": {
     "iopub.execute_input": "2021-11-26T04:43:18.057141Z",
     "iopub.status.busy": "2021-11-26T04:43:18.056430Z",
     "iopub.status.idle": "2021-11-26T04:43:18.069530Z",
     "shell.execute_reply": "2021-11-26T04:43:18.068928Z",
     "shell.execute_reply.started": "2021-11-26T04:37:31.057081Z"
    },
    "papermill": {
     "duration": 0.04481,
     "end_time": "2021-11-26T04:43:18.069722",
     "exception": false,
     "start_time": "2021-11-26T04:43:18.024912",
     "status": "completed"
    },
    "tags": []
   },
   "outputs": [
    {
     "data": {
      "text/html": [
       "<div>\n",
       "<style scoped>\n",
       "    .dataframe tbody tr th:only-of-type {\n",
       "        vertical-align: middle;\n",
       "    }\n",
       "\n",
       "    .dataframe tbody tr th {\n",
       "        vertical-align: top;\n",
       "    }\n",
       "\n",
       "    .dataframe thead th {\n",
       "        text-align: right;\n",
       "    }\n",
       "</style>\n",
       "<table border=\"1\" class=\"dataframe\">\n",
       "  <thead>\n",
       "    <tr style=\"text-align: right;\">\n",
       "      <th></th>\n",
       "      <th>Facility</th>\n",
       "      <th>Count</th>\n",
       "    </tr>\n",
       "  </thead>\n",
       "  <tbody>\n",
       "    <tr>\n",
       "      <th>0</th>\n",
       "      <td>Kepler</td>\n",
       "      <td>2402</td>\n",
       "    </tr>\n",
       "    <tr>\n",
       "      <th>1</th>\n",
       "      <td>K2</td>\n",
       "      <td>477</td>\n",
       "    </tr>\n",
       "    <tr>\n",
       "      <th>2</th>\n",
       "      <td>La Silla Observatory</td>\n",
       "      <td>260</td>\n",
       "    </tr>\n",
       "    <tr>\n",
       "      <th>3</th>\n",
       "      <td>Multiple Observatories</td>\n",
       "      <td>184</td>\n",
       "    </tr>\n",
       "    <tr>\n",
       "      <th>4</th>\n",
       "      <td>W. M. Keck Observatory</td>\n",
       "      <td>181</td>\n",
       "    </tr>\n",
       "    <tr>\n",
       "      <th>5</th>\n",
       "      <td>Transiting Exoplanet Survey Satellite (TESS)</td>\n",
       "      <td>172</td>\n",
       "    </tr>\n",
       "    <tr>\n",
       "      <th>6</th>\n",
       "      <td>SuperWASP</td>\n",
       "      <td>113</td>\n",
       "    </tr>\n",
       "    <tr>\n",
       "      <th>7</th>\n",
       "      <td>OGLE</td>\n",
       "      <td>74</td>\n",
       "    </tr>\n",
       "    <tr>\n",
       "      <th>8</th>\n",
       "      <td>HATSouth</td>\n",
       "      <td>69</td>\n",
       "    </tr>\n",
       "    <tr>\n",
       "      <th>9</th>\n",
       "      <td>HATNet</td>\n",
       "      <td>67</td>\n",
       "    </tr>\n",
       "  </tbody>\n",
       "</table>\n",
       "</div>"
      ],
      "text/plain": [
       "                                       Facility  Count\n",
       "0                                        Kepler   2402\n",
       "1                                            K2    477\n",
       "2                          La Silla Observatory    260\n",
       "3                        Multiple Observatories    184\n",
       "4                        W. M. Keck Observatory    181\n",
       "5  Transiting Exoplanet Survey Satellite (TESS)    172\n",
       "6                                     SuperWASP    113\n",
       "7                                          OGLE     74\n",
       "8                                      HATSouth     69\n",
       "9                                        HATNet     67"
      ]
     },
     "execution_count": 18,
     "metadata": {},
     "output_type": "execute_result"
    }
   ],
   "source": [
    "df1 = new_df[\"Discovery Facility\"].value_counts()[0:10].reset_index()\n",
    "df1.columns = [\"Facility\", \"Count\"]\n",
    "df1"
   ]
  },
  {
   "cell_type": "code",
   "execution_count": 19,
   "id": "116d3377",
   "metadata": {
    "execution": {
     "iopub.execute_input": "2021-11-26T04:43:18.134887Z",
     "iopub.status.busy": "2021-11-26T04:43:18.134157Z",
     "iopub.status.idle": "2021-11-26T04:43:18.413616Z",
     "shell.execute_reply": "2021-11-26T04:43:18.414187Z",
     "shell.execute_reply.started": "2021-11-26T04:39:16.040274Z"
    },
    "papermill": {
     "duration": 0.315231,
     "end_time": "2021-11-26T04:43:18.414363",
     "exception": false,
     "start_time": "2021-11-26T04:43:18.099132",
     "status": "completed"
    },
    "tags": []
   },
   "outputs": [
    {
     "data": {
      "image/png": "[encoded data removed]",
      "text/plain": [
       "<Figure size 432x288 with 1 Axes>"
      ]
     },
     "metadata": {},
     "output_type": "display_data"
    }
   ],
   "source": [
    "plt.pie(df1['Count'],labels = df1['Facility'],autopct='%1.1f%%',radius=3,shadow=True)\n",
    "plt.show()"
   ]
  },
  {
   "cell_type": "markdown",
   "id": "d6724c90",
   "metadata": {
    "papermill": {
     "duration": 0.030484,
     "end_time": "2021-11-26T04:43:18.475645",
     "exception": false,
     "start_time": "2021-11-26T04:43:18.445161",
     "status": "completed"
    },
    "tags": []
   },
   "source": [
    "# Thank you !!\n",
    "Please upvote if you liked my work :):)"
   ]
  }
 ],
 "metadata": {
  "kernelspec": {
   "display_name": "Python 3",
   "language": "python",
   "name": "python3"
  },
  "language_info": {
   "codemirror_mode": {
    "name": "ipython",
    "version": 3
   },
   "file_extension": ".py",
   "mimetype": "text/x-python",
   "name": "python",
   "nbconvert_exporter": "python",
   "pygments_lexer": "ipython3",
   "version": "3.7.10"
  },
  "papermill": {
   "default_parameters": {},
   "duration": 14.883873,
   "end_time": "2021-11-26T04:43:19.216768",
   "environment_variables": {},
   "exception": null,
   "input_path": "__notebook__.ipynb",
   "output_path": "__notebook__.ipynb",
   "parameters": {},
   "start_time": "2021-11-26T04:43:04.332895",
   "version": "2.3.3"
  }
 },
 "nbformat": 4,
 "nbformat_minor": 5
}
